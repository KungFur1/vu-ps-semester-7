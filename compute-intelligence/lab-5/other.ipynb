{
 "cells": [
  {
   "cell_type": "code",
   "execution_count": 63,
   "metadata": {},
   "outputs": [],
   "source": [
    "import numpy as np\n",
    "import pandas as pd\n",
    "import matplotlib.pyplot as plt\n",
    "from collections import Counter\n",
    "from sklearn.model_selection import train_test_split"
   ]
  },
  {
   "cell_type": "code",
   "execution_count": 64,
   "metadata": {},
   "outputs": [],
   "source": [
    "class SOM:\n",
    "    def __init__(self, x, y, input_dim, learning_rate=0.5, radius=2.0):\n",
    "        self.x = x\n",
    "        self.y = y\n",
    "        self.input_dim = input_dim\n",
    "        self.learning_rate = learning_rate\n",
    "        self.radius = radius\n",
    "        self.weights = np.random.random((x, y, input_dim))\n",
    "        self.labels_map = np.empty((x, y), dtype=object)\n",
    "\n",
    "    def _euclidean_distance(self, x, y):\n",
    "        return np.linalg.norm(x - y)\n",
    "\n",
    "    def find_bmu(self, input_vector):\n",
    "        bmu = None\n",
    "        min_dist = float('inf')\n",
    "        for i in range(self.x):\n",
    "            for j in range(self.y):\n",
    "                w = self.weights[i, j]\n",
    "                dist = self._euclidean_distance(w, input_vector)\n",
    "                if dist < min_dist:\n",
    "                    min_dist = dist\n",
    "                    bmu = (i, j)\n",
    "        return bmu\n",
    "\n",
    "    def update_weights(self, input_vector, bmu, iteration, max_iterations):\n",
    "        decay_lr = self.learning_rate * (1 - iteration / max_iterations)\n",
    "        decay_radius = self.radius * (1 - iteration / max_iterations)\n",
    "        for i in range(self.x):\n",
    "            for j in range(self.y):\n",
    "                dist_to_bmu = self._euclidean_distance(np.array([i, j]), np.array(bmu)) # This is the distance between indexes\n",
    "                if dist_to_bmu <= decay_radius:\n",
    "                    influence = np.exp(-dist_to_bmu ** 2 / (2 * decay_radius ** 2))\n",
    "                    self.weights[i, j] += decay_lr * influence * (input_vector - self.weights[i, j])\n",
    "\n",
    "    def train(self, data, labels, num_iterations):\n",
    "        for iteration in range(num_iterations):\n",
    "            input_vector = data[np.random.randint(0, data.shape[0])]\n",
    "            bmu = self.find_bmu(input_vector)\n",
    "            self.update_weights(input_vector, bmu, iteration, num_iterations)\n",
    "        self._assign_labels(data, labels)\n",
    "\n",
    "    def _assign_labels(self, data, labels):\n",
    "        mapping = {}\n",
    "        for i, input_vector in enumerate(data):\n",
    "            bmu = self.find_bmu(input_vector)\n",
    "            if bmu not in mapping:\n",
    "                mapping[bmu] = []\n",
    "            mapping[bmu].append(labels[i])\n",
    "        for bmu, label_list in mapping.items():\n",
    "            self.labels_map[bmu] = Counter(label_list).most_common(1)[0][0]\n",
    "\n",
    "    def predict(self, data):\n",
    "        predictions = []\n",
    "        for input_vector in data:\n",
    "            bmu = self.find_bmu(input_vector)\n",
    "            predictions.append(self.labels_map[bmu])\n",
    "        return np.array(predictions)\n",
    "    \n",
    "    def av_dist_to_bmu(self, data):\n",
    "        distances = []\n",
    "        for input_vector in data:\n",
    "            bmu = self.find_bmu(input_vector)\n",
    "            # print(self.weights[bmu])\n",
    "            # print(input_vector)\n",
    "            distances.append(self._euclidean_distance(self.weights[bmu], input_vector))\n",
    "        return sum(distances) / len(distances)\n",
    "\n",
    "    def visualize_labels(self):\n",
    "        plt.figure(figsize=(8, 8))\n",
    "        for i in range(self.x):\n",
    "            for j in range(self.y):\n",
    "                if self.labels_map[i, j] is not None:\n",
    "                    plt.text(i + 0.5, j + 0.5, str(self.labels_map[i, j]), ha='center', va='center',\n",
    "                             bbox=dict(facecolor='white', alpha=0.7, edgecolor='black'))\n",
    "        plt.xlim(0, self.x)\n",
    "        plt.ylim(0, self.y)\n",
    "        plt.gca().invert_yaxis()\n",
    "        plt.title(\"SOM Grid with Labels\")\n",
    "        plt.grid(True)\n",
    "        plt.show()\n",
    "\n",
    "    def visualize_weights(self):\n",
    "        plt.imshow(self.weights.reshape(self.x, self.y, self.input_dim), interpolation=\"none\")\n",
    "        plt.title(\"SOM Grid\")\n",
    "        plt.show()"
   ]
  },
  {
   "cell_type": "code",
   "execution_count": 65,
   "metadata": {},
   "outputs": [],
   "source": [
    "# Prepare data\n",
    "iris_df = pd.read_csv('iris.csv')\n",
    "features = iris_df.iloc[:, :-1].values\n",
    "labels = iris_df.iloc[:, -1].values\n",
    "features_normalized = (features - features.min(axis=0)) / (features.max(axis=0) - features.min(axis=0))\n",
    "X_train, X_test, y_train, y_test = train_test_split(features_normalized, labels, test_size=0.4, random_state=42)\n",
    "\n",
    "\n",
    "# Initialize and train SOM\n",
    "som = SOM(x=5, y=5, input_dim=X_train.shape[1], learning_rate=0.5, radius=8)\n",
    "som.train(X_train, y_train, num_iterations=2000)"
   ]
  },
  {
   "cell_type": "code",
   "execution_count": 66,
   "metadata": {},
   "outputs": [
    {
     "data": {
      "image/png": "[encoded data removed]",
      "text/plain": [
       "<Figure size 640x480 with 1 Axes>"
      ]
     },
     "metadata": {},
     "output_type": "display_data"
    },
    {
     "data": {
      "image/png": "[encoded data removed]",
      "text/plain": [
       "<Figure size 800x800 with 1 Axes>"
      ]
     },
     "metadata": {},
     "output_type": "display_data"
    }
   ],
   "source": [
    "# Visualize weights and labels assigned to neurons\n",
    "som.visualize_weights()\n",
    "som.visualize_labels()"
   ]
  },
  {
   "cell_type": "code",
   "execution_count": 67,
   "metadata": {},
   "outputs": [
    {
     "name": "stdout",
     "output_type": "stream",
     "text": [
      "Accuracy: 86.67%\n",
      "Average distance: 0.11543217443208799\n"
     ]
    }
   ],
   "source": [
    "# Make predictions and calculate accuracy\n",
    "y_pred = som.predict(X_test)\n",
    "accuracy = np.mean(y_pred == y_test)\n",
    "print(f\"Accuracy: {accuracy * 100:.2f}%\")\n",
    "\n",
    "\n",
    "print(f\"Average distance: {som.av_dist_to_bmu(X_test)}\")\n"
   ]
  }
 ],
 "metadata": {
  "kernelspec": {
   "display_name": "venv",
   "language": "python",
   "name": "python3"
  },
  "language_info": {
   "codemirror_mode": {
    "name": "ipython",
    "version": 3
   },
   "file_extension": ".py",
   "mimetype": "text/x-python",
   "name": "python",
   "nbconvert_exporter": "python",
   "pygments_lexer": "ipython3",
   "version": "3.12.5"
  }
 },
 "nbformat": 4,
 "nbformat_minor": 2
}
