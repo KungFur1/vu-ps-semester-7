{
 "cells": [
  {
   "cell_type": "markdown",
   "metadata": {},
   "source": [
    "# Quantum Computing Lab 2.2\n",
    "## FA1"
   ]
  },
  {
   "cell_type": "code",
   "execution_count": 1,
   "metadata": {},
   "outputs": [
    {
     "data": {
      "text/html": [
       "<pre style=\"word-wrap: normal;white-space: pre;background: #fff0;line-height: 1.1;font-family: &quot;Courier New&quot;,Courier,monospace\">     ┌─────────────────┐           ┌───┐\n",
       "q_0: ┤ U(π/8,π/16,π/4) ├────────■──┤ X ├\n",
       "     └─────────────────┘        │  └─┬─┘\n",
       "q_1: ────────────────────X──────┼────┼──\n",
       "            ┌───┐        │      │    │  \n",
       "q_2: ───────┤ X ├────────X──X───■────┼──\n",
       "            ├───┤           │ ┌─┴─┐  │  \n",
       "q_3: ───────┤ X ├───────────X─┤ X ├──■──\n",
       "            └───┘             └───┘     </pre>"
      ],
      "text/plain": [
       "     ┌─────────────────┐           ┌───┐\n",
       "q_0: ┤ U(π/8,π/16,π/4) ├────────■──┤ X ├\n",
       "     └─────────────────┘        │  └─┬─┘\n",
       "q_1: ────────────────────X──────┼────┼──\n",
       "            ┌───┐        │      │    │  \n",
       "q_2: ───────┤ X ├────────X──X───■────┼──\n",
       "            ├───┤           │ ┌─┴─┐  │  \n",
       "q_3: ───────┤ X ├───────────X─┤ X ├──■──\n",
       "            └───┘             └───┘     "
      ]
     },
     "execution_count": 1,
     "metadata": {},
     "output_type": "execute_result"
    }
   ],
   "source": [
    "from qiskit import QuantumCircuit\n",
    "from math import pi\n",
    "\n",
    "qc = QuantumCircuit(4)\n",
    "\n",
    "qc.u(pi/8, pi/16, pi/4, 0)\n",
    "qc.x(2)\n",
    "qc.x(3)\n",
    "\n",
    "qc.swap(1, 2)\n",
    "qc.swap(2, 3)\n",
    "\n",
    "qc.ccx(0, 2, 3)\n",
    "qc.cx(3, 0)\n",
    "\n",
    "# qc.draw(\"mpl\")\n",
    "qc.draw()"
   ]
  },
  {
   "cell_type": "code",
   "execution_count": 2,
   "metadata": {},
   "outputs": [],
   "source": [
    "from sympy import symbols, cos, sin, exp, I, Matrix, sqrt, pi, kronecker_product, eye\n",
    "\n",
    "\n",
    "def U(theta, phi, lam):\n",
    "    return Matrix([\n",
    "        [cos(theta/2), -exp(I * lam) * sin(theta/2)],\n",
    "        [exp(I * phi) * sin(theta/2), exp(I * (phi + lam)) * cos(theta/2)]\n",
    "    ])\n",
    "\n",
    "\n",
    "IDENTITY = Matrix([[1, 0], [0, 1]])\n",
    "\n",
    "HADAMARD = (1/sqrt(2)) * Matrix([[1, 1], [1, -1]])\n",
    "\n",
    "X = Matrix([[0, 1], [1, 0]])\n",
    "\n",
    "SWAP = Matrix([[1, 0, 0, 0],\n",
    "               [0, 0, 1, 0],\n",
    "               [0, 1, 0, 0],\n",
    "               [0, 0, 0, 1]])\n",
    "\n",
    "U_my = U(pi / 8, pi / 16, pi / 4)\n",
    "\n",
    "\n",
    "# print(U_my)\n",
    "# print(U_my.evalf())"
   ]
  },
  {
   "cell_type": "code",
   "execution_count": 3,
   "metadata": {},
   "outputs": [],
   "source": [
    "# Flip q_3 when |1 q_1 1 q_3>\n",
    "CX_0 = eye(16)\n",
    "\n",
    "CX_0[10,10], CX_0[10, 11] = 0, 1\n",
    "CX_0[11,10], CX_0[11, 11] = 1, 0\n",
    "\n",
    "CX_0[14,14], CX_0[14,15] = 0, 1\n",
    "CX_0[15,14], CX_0[15,15] = 1, 0\n",
    "\n",
    "# CX_0"
   ]
  },
  {
   "cell_type": "code",
   "execution_count": 4,
   "metadata": {},
   "outputs": [],
   "source": [
    "# Flip q_0 when |q_0 q_1 q_2 1>\n",
    "CX_1 = eye(16)\n",
    "pairs = [(1,9), (3,11), (5,13), (7,15)]\n",
    "\n",
    "for (i, j) in pairs:\n",
    "    CX_1[i, i] = 0\n",
    "    CX_1[j, j] = 0\n",
    "\n",
    "    CX_1[i, j] = 1\n",
    "    CX_1[j, i] = 1\n",
    "# CX_1"
   ]
  },
  {
   "cell_type": "code",
   "execution_count": 5,
   "metadata": {},
   "outputs": [
    {
     "data": {
      "text/latex": [
       "$\\displaystyle \\left[\\begin{array}{cccccccccccccccc}0 & - \\frac{\\sqrt{2} e^{\\frac{i \\pi}{4}} \\sin{\\left(\\frac{\\pi}{16} \\right)}}{2} & 0 & 0 & 0 & - \\frac{\\sqrt{2} e^{\\frac{i \\pi}{4}} \\sin{\\left(\\frac{\\pi}{16} \\right)}}{2} & 0 & 0 & 0 & \\frac{\\sqrt{2} \\cos{\\left(\\frac{\\pi}{16} \\right)}}{2} & 0 & 0 & 0 & \\frac{\\sqrt{2} \\cos{\\left(\\frac{\\pi}{16} \\right)}}{2} & 0 & 0\\\\0 & - \\frac{\\sqrt{2} e^{\\frac{i \\pi}{4}} \\sin{\\left(\\frac{\\pi}{16} \\right)}}{2} & 0 & 0 & 0 & \\frac{\\sqrt{2} e^{\\frac{i \\pi}{4}} \\sin{\\left(\\frac{\\pi}{16} \\right)}}{2} & 0 & 0 & 0 & \\frac{\\sqrt{2} \\cos{\\left(\\frac{\\pi}{16} \\right)}}{2} & 0 & 0 & 0 & - \\frac{\\sqrt{2} \\cos{\\left(\\frac{\\pi}{16} \\right)}}{2} & 0 & 0\\\\\\frac{\\sqrt{2} \\cos{\\left(\\frac{\\pi}{16} \\right)}}{2} & 0 & 0 & 0 & \\frac{\\sqrt{2} \\cos{\\left(\\frac{\\pi}{16} \\right)}}{2} & 0 & 0 & 0 & - \\frac{\\sqrt{2} e^{\\frac{i \\pi}{4}} \\sin{\\left(\\frac{\\pi}{16} \\right)}}{2} & 0 & 0 & 0 & - \\frac{\\sqrt{2} e^{\\frac{i \\pi}{4}} \\sin{\\left(\\frac{\\pi}{16} \\right)}}{2} & 0 & 0 & 0\\\\\\frac{\\sqrt{2} \\cos{\\left(\\frac{\\pi}{16} \\right)}}{2} & 0 & 0 & 0 & - \\frac{\\sqrt{2} \\cos{\\left(\\frac{\\pi}{16} \\right)}}{2} & 0 & 0 & 0 & - \\frac{\\sqrt{2} e^{\\frac{i \\pi}{4}} \\sin{\\left(\\frac{\\pi}{16} \\right)}}{2} & 0 & 0 & 0 & \\frac{\\sqrt{2} e^{\\frac{i \\pi}{4}} \\sin{\\left(\\frac{\\pi}{16} \\right)}}{2} & 0 & 0 & 0\\\\0 & 0 & 0 & 0 & 0 & 0 & 0 & 0 & 0 & 0 & - \\frac{\\sqrt{2} e^{\\frac{i \\pi}{4}} \\sin{\\left(\\frac{\\pi}{16} \\right)}}{2} & \\frac{\\sqrt{2} \\cos{\\left(\\frac{\\pi}{16} \\right)}}{2} & 0 & 0 & - \\frac{\\sqrt{2} e^{\\frac{i \\pi}{4}} \\sin{\\left(\\frac{\\pi}{16} \\right)}}{2} & \\frac{\\sqrt{2} \\cos{\\left(\\frac{\\pi}{16} \\right)}}{2}\\\\0 & 0 & 0 & 0 & 0 & 0 & 0 & 0 & 0 & 0 & - \\frac{\\sqrt{2} e^{\\frac{i \\pi}{4}} \\sin{\\left(\\frac{\\pi}{16} \\right)}}{2} & \\frac{\\sqrt{2} \\cos{\\left(\\frac{\\pi}{16} \\right)}}{2} & 0 & 0 & \\frac{\\sqrt{2} e^{\\frac{i \\pi}{4}} \\sin{\\left(\\frac{\\pi}{16} \\right)}}{2} & - \\frac{\\sqrt{2} \\cos{\\left(\\frac{\\pi}{16} \\right)}}{2}\\\\0 & 0 & \\frac{\\sqrt{2} \\cos{\\left(\\frac{\\pi}{16} \\right)}}{2} & - \\frac{\\sqrt{2} e^{\\frac{i \\pi}{4}} \\sin{\\left(\\frac{\\pi}{16} \\right)}}{2} & 0 & 0 & \\frac{\\sqrt{2} \\cos{\\left(\\frac{\\pi}{16} \\right)}}{2} & - \\frac{\\sqrt{2} e^{\\frac{i \\pi}{4}} \\sin{\\left(\\frac{\\pi}{16} \\right)}}{2} & 0 & 0 & 0 & 0 & 0 & 0 & 0 & 0\\\\0 & 0 & \\frac{\\sqrt{2} \\cos{\\left(\\frac{\\pi}{16} \\right)}}{2} & - \\frac{\\sqrt{2} e^{\\frac{i \\pi}{4}} \\sin{\\left(\\frac{\\pi}{16} \\right)}}{2} & 0 & 0 & - \\frac{\\sqrt{2} \\cos{\\left(\\frac{\\pi}{16} \\right)}}{2} & \\frac{\\sqrt{2} e^{\\frac{i \\pi}{4}} \\sin{\\left(\\frac{\\pi}{16} \\right)}}{2} & 0 & 0 & 0 & 0 & 0 & 0 & 0 & 0\\\\0 & \\frac{\\sqrt{2} e^{\\frac{5 i \\pi}{16}} \\cos{\\left(\\frac{\\pi}{16} \\right)}}{2} & 0 & 0 & 0 & \\frac{\\sqrt{2} e^{\\frac{5 i \\pi}{16}} \\cos{\\left(\\frac{\\pi}{16} \\right)}}{2} & 0 & 0 & 0 & \\frac{\\sqrt{2} e^{\\frac{i \\pi}{16}} \\sin{\\left(\\frac{\\pi}{16} \\right)}}{2} & 0 & 0 & 0 & \\frac{\\sqrt{2} e^{\\frac{i \\pi}{16}} \\sin{\\left(\\frac{\\pi}{16} \\right)}}{2} & 0 & 0\\\\0 & \\frac{\\sqrt{2} e^{\\frac{5 i \\pi}{16}} \\cos{\\left(\\frac{\\pi}{16} \\right)}}{2} & 0 & 0 & 0 & - \\frac{\\sqrt{2} e^{\\frac{5 i \\pi}{16}} \\cos{\\left(\\frac{\\pi}{16} \\right)}}{2} & 0 & 0 & 0 & \\frac{\\sqrt{2} e^{\\frac{i \\pi}{16}} \\sin{\\left(\\frac{\\pi}{16} \\right)}}{2} & 0 & 0 & 0 & - \\frac{\\sqrt{2} e^{\\frac{i \\pi}{16}} \\sin{\\left(\\frac{\\pi}{16} \\right)}}{2} & 0 & 0\\\\\\frac{\\sqrt{2} e^{\\frac{i \\pi}{16}} \\sin{\\left(\\frac{\\pi}{16} \\right)}}{2} & 0 & 0 & 0 & \\frac{\\sqrt{2} e^{\\frac{i \\pi}{16}} \\sin{\\left(\\frac{\\pi}{16} \\right)}}{2} & 0 & 0 & 0 & \\frac{\\sqrt{2} e^{\\frac{5 i \\pi}{16}} \\cos{\\left(\\frac{\\pi}{16} \\right)}}{2} & 0 & 0 & 0 & \\frac{\\sqrt{2} e^{\\frac{5 i \\pi}{16}} \\cos{\\left(\\frac{\\pi}{16} \\right)}}{2} & 0 & 0 & 0\\\\\\frac{\\sqrt{2} e^{\\frac{i \\pi}{16}} \\sin{\\left(\\frac{\\pi}{16} \\right)}}{2} & 0 & 0 & 0 & - \\frac{\\sqrt{2} e^{\\frac{i \\pi}{16}} \\sin{\\left(\\frac{\\pi}{16} \\right)}}{2} & 0 & 0 & 0 & \\frac{\\sqrt{2} e^{\\frac{5 i \\pi}{16}} \\cos{\\left(\\frac{\\pi}{16} \\right)}}{2} & 0 & 0 & 0 & - \\frac{\\sqrt{2} e^{\\frac{5 i \\pi}{16}} \\cos{\\left(\\frac{\\pi}{16} \\right)}}{2} & 0 & 0 & 0\\\\0 & 0 & 0 & 0 & 0 & 0 & 0 & 0 & 0 & 0 & \\frac{\\sqrt{2} e^{\\frac{5 i \\pi}{16}} \\cos{\\left(\\frac{\\pi}{16} \\right)}}{2} & \\frac{\\sqrt{2} e^{\\frac{i \\pi}{16}} \\sin{\\left(\\frac{\\pi}{16} \\right)}}{2} & 0 & 0 & \\frac{\\sqrt{2} e^{\\frac{5 i \\pi}{16}} \\cos{\\left(\\frac{\\pi}{16} \\right)}}{2} & \\frac{\\sqrt{2} e^{\\frac{i \\pi}{16}} \\sin{\\left(\\frac{\\pi}{16} \\right)}}{2}\\\\0 & 0 & 0 & 0 & 0 & 0 & 0 & 0 & 0 & 0 & \\frac{\\sqrt{2} e^{\\frac{5 i \\pi}{16}} \\cos{\\left(\\frac{\\pi}{16} \\right)}}{2} & \\frac{\\sqrt{2} e^{\\frac{i \\pi}{16}} \\sin{\\left(\\frac{\\pi}{16} \\right)}}{2} & 0 & 0 & - \\frac{\\sqrt{2} e^{\\frac{5 i \\pi}{16}} \\cos{\\left(\\frac{\\pi}{16} \\right)}}{2} & - \\frac{\\sqrt{2} e^{\\frac{i \\pi}{16}} \\sin{\\left(\\frac{\\pi}{16} \\right)}}{2}\\\\0 & 0 & \\frac{\\sqrt{2} e^{\\frac{i \\pi}{16}} \\sin{\\left(\\frac{\\pi}{16} \\right)}}{2} & \\frac{\\sqrt{2} e^{\\frac{5 i \\pi}{16}} \\cos{\\left(\\frac{\\pi}{16} \\right)}}{2} & 0 & 0 & \\frac{\\sqrt{2} e^{\\frac{i \\pi}{16}} \\sin{\\left(\\frac{\\pi}{16} \\right)}}{2} & \\frac{\\sqrt{2} e^{\\frac{5 i \\pi}{16}} \\cos{\\left(\\frac{\\pi}{16} \\right)}}{2} & 0 & 0 & 0 & 0 & 0 & 0 & 0 & 0\\\\0 & 0 & \\frac{\\sqrt{2} e^{\\frac{i \\pi}{16}} \\sin{\\left(\\frac{\\pi}{16} \\right)}}{2} & \\frac{\\sqrt{2} e^{\\frac{5 i \\pi}{16}} \\cos{\\left(\\frac{\\pi}{16} \\right)}}{2} & 0 & 0 & - \\frac{\\sqrt{2} e^{\\frac{i \\pi}{16}} \\sin{\\left(\\frac{\\pi}{16} \\right)}}{2} & - \\frac{\\sqrt{2} e^{\\frac{5 i \\pi}{16}} \\cos{\\left(\\frac{\\pi}{16} \\right)}}{2} & 0 & 0 & 0 & 0 & 0 & 0 & 0 & 0\\end{array}\\right]$"
      ],
      "text/plain": [
       "Matrix([\n",
       "[                                0,   -sqrt(2)*exp(I*pi/4)*sin(pi/16)/2,                                 0,                                   0,                                  0,    -sqrt(2)*exp(I*pi/4)*sin(pi/16)/2,                                  0,                                    0,                                   0,              sqrt(2)*cos(pi/16)/2,                                   0,                                 0,                                    0,               sqrt(2)*cos(pi/16)/2,                                    0,                                  0],\n",
       "[                                0,   -sqrt(2)*exp(I*pi/4)*sin(pi/16)/2,                                 0,                                   0,                                  0,     sqrt(2)*exp(I*pi/4)*sin(pi/16)/2,                                  0,                                    0,                                   0,              sqrt(2)*cos(pi/16)/2,                                   0,                                 0,                                    0,              -sqrt(2)*cos(pi/16)/2,                                    0,                                  0],\n",
       "[             sqrt(2)*cos(pi/16)/2,                                   0,                                 0,                                   0,               sqrt(2)*cos(pi/16)/2,                                    0,                                  0,                                    0,   -sqrt(2)*exp(I*pi/4)*sin(pi/16)/2,                                 0,                                   0,                                 0,    -sqrt(2)*exp(I*pi/4)*sin(pi/16)/2,                                  0,                                    0,                                  0],\n",
       "[             sqrt(2)*cos(pi/16)/2,                                   0,                                 0,                                   0,              -sqrt(2)*cos(pi/16)/2,                                    0,                                  0,                                    0,   -sqrt(2)*exp(I*pi/4)*sin(pi/16)/2,                                 0,                                   0,                                 0,     sqrt(2)*exp(I*pi/4)*sin(pi/16)/2,                                  0,                                    0,                                  0],\n",
       "[                                0,                                   0,                                 0,                                   0,                                  0,                                    0,                                  0,                                    0,                                   0,                                 0,   -sqrt(2)*exp(I*pi/4)*sin(pi/16)/2,              sqrt(2)*cos(pi/16)/2,                                    0,                                  0,    -sqrt(2)*exp(I*pi/4)*sin(pi/16)/2,               sqrt(2)*cos(pi/16)/2],\n",
       "[                                0,                                   0,                                 0,                                   0,                                  0,                                    0,                                  0,                                    0,                                   0,                                 0,   -sqrt(2)*exp(I*pi/4)*sin(pi/16)/2,              sqrt(2)*cos(pi/16)/2,                                    0,                                  0,     sqrt(2)*exp(I*pi/4)*sin(pi/16)/2,              -sqrt(2)*cos(pi/16)/2],\n",
       "[                                0,                                   0,              sqrt(2)*cos(pi/16)/2,   -sqrt(2)*exp(I*pi/4)*sin(pi/16)/2,                                  0,                                    0,               sqrt(2)*cos(pi/16)/2,    -sqrt(2)*exp(I*pi/4)*sin(pi/16)/2,                                   0,                                 0,                                   0,                                 0,                                    0,                                  0,                                    0,                                  0],\n",
       "[                                0,                                   0,              sqrt(2)*cos(pi/16)/2,   -sqrt(2)*exp(I*pi/4)*sin(pi/16)/2,                                  0,                                    0,              -sqrt(2)*cos(pi/16)/2,     sqrt(2)*exp(I*pi/4)*sin(pi/16)/2,                                   0,                                 0,                                   0,                                 0,                                    0,                                  0,                                    0,                                  0],\n",
       "[                                0, sqrt(2)*exp(5*I*pi/16)*cos(pi/16)/2,                                 0,                                   0,                                  0,  sqrt(2)*exp(5*I*pi/16)*cos(pi/16)/2,                                  0,                                    0,                                   0, sqrt(2)*exp(I*pi/16)*sin(pi/16)/2,                                   0,                                 0,                                    0,  sqrt(2)*exp(I*pi/16)*sin(pi/16)/2,                                    0,                                  0],\n",
       "[                                0, sqrt(2)*exp(5*I*pi/16)*cos(pi/16)/2,                                 0,                                   0,                                  0, -sqrt(2)*exp(5*I*pi/16)*cos(pi/16)/2,                                  0,                                    0,                                   0, sqrt(2)*exp(I*pi/16)*sin(pi/16)/2,                                   0,                                 0,                                    0, -sqrt(2)*exp(I*pi/16)*sin(pi/16)/2,                                    0,                                  0],\n",
       "[sqrt(2)*exp(I*pi/16)*sin(pi/16)/2,                                   0,                                 0,                                   0,  sqrt(2)*exp(I*pi/16)*sin(pi/16)/2,                                    0,                                  0,                                    0, sqrt(2)*exp(5*I*pi/16)*cos(pi/16)/2,                                 0,                                   0,                                 0,  sqrt(2)*exp(5*I*pi/16)*cos(pi/16)/2,                                  0,                                    0,                                  0],\n",
       "[sqrt(2)*exp(I*pi/16)*sin(pi/16)/2,                                   0,                                 0,                                   0, -sqrt(2)*exp(I*pi/16)*sin(pi/16)/2,                                    0,                                  0,                                    0, sqrt(2)*exp(5*I*pi/16)*cos(pi/16)/2,                                 0,                                   0,                                 0, -sqrt(2)*exp(5*I*pi/16)*cos(pi/16)/2,                                  0,                                    0,                                  0],\n",
       "[                                0,                                   0,                                 0,                                   0,                                  0,                                    0,                                  0,                                    0,                                   0,                                 0, sqrt(2)*exp(5*I*pi/16)*cos(pi/16)/2, sqrt(2)*exp(I*pi/16)*sin(pi/16)/2,                                    0,                                  0,  sqrt(2)*exp(5*I*pi/16)*cos(pi/16)/2,  sqrt(2)*exp(I*pi/16)*sin(pi/16)/2],\n",
       "[                                0,                                   0,                                 0,                                   0,                                  0,                                    0,                                  0,                                    0,                                   0,                                 0, sqrt(2)*exp(5*I*pi/16)*cos(pi/16)/2, sqrt(2)*exp(I*pi/16)*sin(pi/16)/2,                                    0,                                  0, -sqrt(2)*exp(5*I*pi/16)*cos(pi/16)/2, -sqrt(2)*exp(I*pi/16)*sin(pi/16)/2],\n",
       "[                                0,                                   0, sqrt(2)*exp(I*pi/16)*sin(pi/16)/2, sqrt(2)*exp(5*I*pi/16)*cos(pi/16)/2,                                  0,                                    0,  sqrt(2)*exp(I*pi/16)*sin(pi/16)/2,  sqrt(2)*exp(5*I*pi/16)*cos(pi/16)/2,                                   0,                                 0,                                   0,                                 0,                                    0,                                  0,                                    0,                                  0],\n",
       "[                                0,                                   0, sqrt(2)*exp(I*pi/16)*sin(pi/16)/2, sqrt(2)*exp(5*I*pi/16)*cos(pi/16)/2,                                  0,                                    0, -sqrt(2)*exp(I*pi/16)*sin(pi/16)/2, -sqrt(2)*exp(5*I*pi/16)*cos(pi/16)/2,                                   0,                                 0,                                   0,                                 0,                                    0,                                  0,                                    0,                                  0]])"
      ]
     },
     "execution_count": 5,
     "metadata": {},
     "output_type": "execute_result"
    }
   ],
   "source": [
    "result = kronecker_product(U_my, IDENTITY, X, HADAMARD) * kronecker_product(IDENTITY, IDENTITY, SWAP) * kronecker_product(IDENTITY, SWAP, IDENTITY) * CX_0 * CX_1\n",
    "result.simplify()\n",
    "result"
   ]
  },
  {
   "cell_type": "code",
   "execution_count": 6,
   "metadata": {},
   "outputs": [
    {
     "name": "stdout",
     "output_type": "stream",
     "text": [
      "Eigenvalue 0: -1, multiplicity: 1\n",
      "  Eigenvector: Matrix([[1 - sqrt(2)], [1]])\n",
      "  Phase (argument) of eigenvalue: pi\n",
      "Eigenvalue 1: 1, multiplicity: 1\n",
      "  Eigenvector: Matrix([[1 + sqrt(2)], [1]])\n",
      "  Phase (argument) of eigenvalue: 0\n"
     ]
    }
   ],
   "source": [
    "import sympy as sp\n",
    "\n",
    "\n",
    "eigs = HADAMARD.eigenvects()\n",
    "# eigs = result.eigenvects()\n",
    "\n",
    "for idx, (eigenval, multiplicity, eigenvecs) in enumerate(eigs):\n",
    "    print(f\"Eigenvalue {idx}: {eigenval}, multiplicity: {multiplicity}\")\n",
    "    for v in eigenvecs:\n",
    "        print(f\"  Eigenvector: {v}\")\n",
    "\n",
    "    phase = sp.arg(eigenval)\n",
    "    print(f\"  Phase (argument) of eigenvalue: {phase}\")"
   ]
  },
  {
   "cell_type": "markdown",
   "metadata": {},
   "source": [
    "## FA2"
   ]
  },
  {
   "cell_type": "code",
   "execution_count": 7,
   "metadata": {},
   "outputs": [
    {
     "name": "stdout",
     "output_type": "stream",
     "text": [
      "Eigenvalues:\n",
      "[-1. -1. -1. -1.  1.  1.  1.  1.]\n",
      "\n",
      "Eigenvectors (each column is an eigenvector):\n",
      "[[ 0.70710678+0.j  0.        +0.j  0.        +0.j  0.        +0.j\n",
      "  -0.70710678-0.j  0.        +0.j  0.        +0.j  0.        +0.j]\n",
      " [ 0.        +0.j -0.70710678+0.j  0.        +0.j  0.        +0.j\n",
      "   0.        +0.j  0.        +0.j  0.70710678+0.j  0.        +0.j]\n",
      " [-0.70710678+0.j  0.        +0.j  0.        +0.j  0.        +0.j\n",
      "  -0.70710678+0.j  0.        +0.j  0.        +0.j  0.        +0.j]\n",
      " [ 0.        +0.j  0.70710678-0.j  0.        +0.j  0.        +0.j\n",
      "   0.        +0.j  0.        +0.j  0.70710678+0.j  0.        +0.j]\n",
      " [ 0.        +0.j  0.        +0.j  0.70710678+0.j  0.        +0.j\n",
      "   0.        +0.j -0.70710678-0.j  0.        +0.j  0.        +0.j]\n",
      " [ 0.        +0.j  0.        +0.j  0.        +0.j -0.70710678+0.j\n",
      "   0.        +0.j  0.        +0.j  0.        +0.j  0.70710678+0.j]\n",
      " [ 0.        +0.j  0.        +0.j -0.70710678+0.j  0.        +0.j\n",
      "   0.        +0.j -0.70710678+0.j  0.        +0.j  0.        +0.j]\n",
      " [ 0.        +0.j  0.        +0.j  0.        +0.j  0.70710678-0.j\n",
      "   0.        +0.j  0.        +0.j  0.        +0.j  0.70710678+0.j]]\n"
     ]
    }
   ],
   "source": [
    "from qiskit import QuantumCircuit\n",
    "from scipy.linalg import eigh\n",
    "from qiskit.quantum_info import Operator\n",
    "\n",
    "\n",
    "qc = QuantumCircuit(3)\n",
    "\n",
    "qc.x(1)\n",
    "\n",
    "qc.draw(\"mpl\")\n",
    "\n",
    "matrix = Operator(qc).data\n",
    "eigenvalues, eigenvectors = eigh(matrix)\n",
    "print(\"Eigenvalues:\")\n",
    "print(eigenvalues)\n",
    "print(\"\\nEigenvectors (each column is an eigenvector):\")\n",
    "print(eigenvectors)"
   ]
  },
  {
   "cell_type": "code",
   "execution_count": 8,
   "metadata": {},
   "outputs": [
    {
     "data": {
      "image/png": "[encoded data removed]",
      "text/plain": [
       "<Figure size 1708.89x535.111 with 1 Axes>"
      ]
     },
     "execution_count": 8,
     "metadata": {},
     "output_type": "execute_result"
    }
   ],
   "source": [
    "from qiskit import QuantumCircuit\n",
    "from math import pi\n",
    "\n",
    "\n",
    "qc = QuantumCircuit(2 + 3, 2)\n",
    "\n",
    "# Prepare input eigenvector\n",
    "# qc.h(3) # 0+0\n",
    "qc.x(3) # 0-0\n",
    "qc.h(3) # 0-0\n",
    "qc.barrier()\n",
    "\n",
    "# Control qubit hadamards\n",
    "qc.h(0)\n",
    "qc.h(1)\n",
    "qc.barrier()\n",
    "\n",
    "# Add controlled M\n",
    "for a in range(2): # m = 2\n",
    "    for b in range(2**a):\n",
    "        qc.cx(a, 3)\n",
    "        qc.barrier()\n",
    "\n",
    "# Inverse Fourier\n",
    "qc.swap(0, 1)\n",
    "qc.h(0)\n",
    "qc.cp(-pi / 2, 0, 1)\n",
    "qc.h(1)\n",
    "qc.barrier()\n",
    "\n",
    "# Measure\n",
    "qc.measure([0, 1], [0, 1])\n",
    "\n",
    "qc.draw(\"mpl\")"
   ]
  },
  {
   "cell_type": "code",
   "execution_count": 9,
   "metadata": {},
   "outputs": [
    {
     "name": "stderr",
     "output_type": "stream",
     "text": [
      "C:\\Users\\Plasc\\AppData\\Local\\Temp\\ipykernel_2728\\1620494913.py:5: DeprecationWarning: The class ``qiskit.primitives.sampler.Sampler`` is deprecated as of qiskit 1.2. It will be removed no earlier than 3 months after the release date. All implementations of the `BaseSamplerV1` interface have been deprecated in favor of their V2 counterparts. The V2 alternative for the `Sampler` class is `StatevectorSampler`.\n",
      "  result = Sampler().run(qc).result()\n"
     ]
    },
    {
     "data": {
      "image/png": "[encoded data removed]",
      "text/plain": [
       "<Figure size 640x480 with 1 Axes>"
      ]
     },
     "metadata": {},
     "output_type": "display_data"
    }
   ],
   "source": [
    "from qiskit.visualization import plot_histogram\n",
    "from qiskit.primitives import Sampler\n",
    "\n",
    "\n",
    "result = Sampler().run(qc).result()\n",
    "display(plot_histogram(result.quasi_dists))"
   ]
  },
  {
   "cell_type": "markdown",
   "metadata": {},
   "source": [
    "## O1"
   ]
  },
  {
   "cell_type": "code",
   "execution_count": 10,
   "metadata": {},
   "outputs": [
    {
     "data": {
      "text/latex": [
       "$\\displaystyle \\left[\\begin{matrix}1 & 0 & 0 & 0\\\\0 & 0 & 0 & 1\\\\0 & 0 & 1 & 0\\\\0 & 1 & 0 & 0\\end{matrix}\\right]$"
      ],
      "text/plain": [
       "Matrix([\n",
       "[1, 0, 0, 0],\n",
       "[0, 0, 0, 1],\n",
       "[0, 0, 1, 0],\n",
       "[0, 1, 0, 0]])"
      ]
     },
     "execution_count": 10,
     "metadata": {},
     "output_type": "execute_result"
    }
   ],
   "source": [
    "import math\n",
    "from sympy import Matrix\n",
    "\n",
    "\n",
    "def M_a(N, a):\n",
    "    n = math.ceil(math.log2(N)) # n - input qubits amount to M_a\n",
    "\n",
    "    M_a = Matrix.zeros(2**n, 2**n) # 2**n X 2**n\n",
    "    for x in range(2**n):\n",
    "        if x >= N:\n",
    "            M_a[x, x] = 1\n",
    "        else:\n",
    "            result = (x * a) % N\n",
    "            M_a[result, x] = 1\n",
    "    \n",
    "    return M_a\n",
    "\n",
    "test = Matrix([0, 0, 0, 0, 0, 0, 0, 0, 0, 0, 0, 0, 1, 0, 0, 0])\n",
    "\n",
    "# M_a(7, 2) * test\n",
    "# M_a(15, 4) * test\n",
    "# M_a(15, 4)\n",
    "M_a(4, 3)"
   ]
  },
  {
   "cell_type": "markdown",
   "metadata": {},
   "source": [
    "## ShA"
   ]
  },
  {
   "cell_type": "code",
   "execution_count": 11,
   "metadata": {},
   "outputs": [],
   "source": [
    "import numpy as np\n",
    "from qiskit.circuit.library import UnitaryGate\n",
    "\n",
    "a = 2\n",
    "N = 21\n",
    "\n",
    "def c_amod_N(a):\n",
    "    if math.gcd(a, N) != 1:\n",
    "        raise ValueError(f\"'a' must not have common factors with {N}\")\n",
    "\n",
    "    M = M_a(N, a)\n",
    "\n",
    "    M_np = np.array(M, dtype=complex)\n",
    "    U = UnitaryGate(M_np)\n",
    "    U.name = f\"{a} mod {N}\"\n",
    "\n",
    "    c_U = U.control()\n",
    "    return c_U"
   ]
  },
  {
   "cell_type": "code",
   "execution_count": 12,
   "metadata": {},
   "outputs": [],
   "source": [
    "from qiskit import QuantumCircuit, QuantumRegister, ClassicalRegister\n",
    "from qiskit.circuit.library import QFT\n",
    "from qiskit.primitives import Sampler\n",
    "\n",
    "\n",
    "def phase_estimation(\n",
    "        controlled_operation: QuantumCircuit,\n",
    "        psi_prep: QuantumCircuit,\n",
    "        precision: int\n",
    "    ):\n",
    "    \"\"\"\n",
    "    Carry out phase estimation on a simulator.\n",
    "    Args:\n",
    "        controlled_operation: The operation to perform phase estimation on,\n",
    "                              controlled by one qubit.\n",
    "        psi_prep: Circuit to prepare |ψ>\n",
    "        precision: Number of counting qubits to use\n",
    "    Returns:\n",
    "        float: Best guess for phase of U|ψ>\n",
    "    \"\"\"\n",
    "    control_register = QuantumRegister(precision)\n",
    "    output_register = ClassicalRegister(precision)\n",
    "\n",
    "    target_register = QuantumRegister(psi_prep.num_qubits)\n",
    "    qc = QuantumCircuit(control_register, target_register, output_register)\n",
    "\n",
    "    # Prepare |ψ>\n",
    "    qc.compose(psi_prep,\n",
    "               qubits=target_register,\n",
    "               inplace=True)\n",
    "\n",
    "    # Do phase estimation\n",
    "    for index, qubit in enumerate(control_register):\n",
    "        qc.h(qubit)\n",
    "        for _ in range(2**index):\n",
    "            qc.compose(\n",
    "                controlled_operation,\n",
    "                qubits=[qubit] + list(target_register),\n",
    "                inplace=True,\n",
    "            )\n",
    "\n",
    "    qc.compose(\n",
    "        QFT(precision, inverse=True),\n",
    "        qubits=control_register,\n",
    "        inplace=True\n",
    "    )\n",
    "\n",
    "    qc.measure(control_register, output_register)\n",
    "\n",
    "    measurement = Sampler().run(qc, shots=1).result().quasi_dists[0].popitem()[0]\n",
    "    return measurement / 2**precision"
   ]
  },
  {
   "cell_type": "code",
   "execution_count": 13,
   "metadata": {},
   "outputs": [
    {
     "data": {
      "text/html": [
       "<pre style=\"word-wrap: normal;white-space: pre;background: #fff0;line-height: 1.1;font-family: &quot;Courier New&quot;,Courier,monospace\">     ┌───┐\n",
       "q_0: ┤ X ├\n",
       "     └───┘\n",
       "q_1: ─────\n",
       "          \n",
       "q_2: ─────\n",
       "          \n",
       "q_3: ─────\n",
       "          \n",
       "q_4: ─────\n",
       "          </pre>"
      ],
      "text/plain": [
       "     ┌───┐\n",
       "q_0: ┤ X ├\n",
       "     └───┘\n",
       "q_1: ─────\n",
       "          \n",
       "q_2: ─────\n",
       "          \n",
       "q_3: ─────\n",
       "          \n",
       "q_4: ─────\n",
       "          "
      ]
     },
     "metadata": {},
     "output_type": "display_data"
    }
   ],
   "source": [
    "psi_prep = QuantumCircuit(math.ceil(math.log2(N)))\n",
    "psi_prep.x(0)\n",
    "display(psi_prep.draw())"
   ]
  },
  {
   "cell_type": "code",
   "execution_count": 14,
   "metadata": {},
   "outputs": [
    {
     "name": "stdout",
     "output_type": "stream",
     "text": [
      "\n",
      "Attempt 1\n"
     ]
    },
    {
     "name": "stderr",
     "output_type": "stream",
     "text": [
      "C:\\Users\\Plasc\\AppData\\Local\\Temp\\ipykernel_2728\\1461470982.py:50: DeprecationWarning: The class ``qiskit.primitives.sampler.Sampler`` is deprecated as of qiskit 1.2. It will be removed no earlier than 3 months after the release date. All implementations of the `BaseSamplerV1` interface have been deprecated in favor of their V2 counterparts. The V2 alternative for the `Sampler` class is `StatevectorSampler`.\n",
      "  measurement = Sampler().run(qc, shots=1).result().quasi_dists[0].popitem()[0]\n"
     ]
    },
    {
     "name": "stdout",
     "output_type": "stream",
     "text": [
      "\n",
      "Attempt 2\n",
      "Non-trivial factor found: 3\n"
     ]
    }
   ],
   "source": [
    "from fractions import Fraction\n",
    "from math import gcd\n",
    "\n",
    "# a = 2\n",
    "# N = 21\n",
    "\n",
    "FACTOR_FOUND = False\n",
    "ATTEMPT = 0\n",
    "while not FACTOR_FOUND:\n",
    "    ATTEMPT += 1\n",
    "    print(f\"\\nAttempt {ATTEMPT}\")\n",
    "\n",
    "    phase = phase_estimation(\n",
    "        c_amod_N(a),\n",
    "        psi_prep,\n",
    "        precision=5\n",
    "    )\n",
    "    frac = Fraction(phase).limit_denominator(N)\n",
    "    r = frac.denominator\n",
    "    if phase != 0:\n",
    "        # Guess for a factor is gcd(x^{r/2} - 1 , 15)\n",
    "        guess = gcd(a ** (r // 2) - 1, N)\n",
    "        if guess not in [1, N] and (N % guess) == 0:\n",
    "            # Guess is a factor!\n",
    "            print(f\"Non-trivial factor found: {guess}\")\n",
    "            FACTOR_FOUND = True"
   ]
  },
  {
   "cell_type": "markdown",
   "metadata": {},
   "source": [
    "# GrA"
   ]
  },
  {
   "cell_type": "code",
   "execution_count": 15,
   "metadata": {},
   "outputs": [],
   "source": [
    "# To be continued..."
   ]
  }
 ],
 "metadata": {
  "kernelspec": {
   "display_name": "venv",
   "language": "python",
   "name": "python3"
  },
  "language_info": {
   "codemirror_mode": {
    "name": "ipython",
    "version": 3
   },
   "file_extension": ".py",
   "mimetype": "text/x-python",
   "name": "python",
   "nbconvert_exporter": "python",
   "pygments_lexer": "ipython3",
   "version": "3.12.5"
  }
 },
 "nbformat": 4,
 "nbformat_minor": 2
}
