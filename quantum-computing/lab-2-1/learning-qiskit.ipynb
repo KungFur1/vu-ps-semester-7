{
 "cells": [
  {
   "cell_type": "markdown",
   "metadata": {},
   "source": [
    "# State Vectors"
   ]
  },
  {
   "cell_type": "code",
   "execution_count": 1,
   "metadata": {},
   "outputs": [],
   "source": [
    "import numpy as np\n",
    "from qiskit.quantum_info import Statevector\n",
    "from IPython.display import display, Markdown"
   ]
  },
  {
   "cell_type": "code",
   "execution_count": 2,
   "metadata": {},
   "outputs": [
    {
     "data": {
      "text/latex": [
       "$$ |0\\rangle$$"
      ],
      "text/plain": [
       "<IPython.core.display.Latex object>"
      ]
     },
     "metadata": {},
     "output_type": "display_data"
    },
    {
     "data": {
      "text/latex": [
       "$$ |1\\rangle$$"
      ],
      "text/plain": [
       "<IPython.core.display.Latex object>"
      ]
     },
     "metadata": {},
     "output_type": "display_data"
    },
    {
     "data": {
      "text/latex": [
       "$$\\frac{\\sqrt{2}}{2} |0\\rangle+\\frac{\\sqrt{2}}{2} |1\\rangle$$"
      ],
      "text/plain": [
       "<IPython.core.display.Latex object>"
      ]
     },
     "metadata": {},
     "output_type": "display_data"
    },
    {
     "data": {
      "text/latex": [
       "$$\\frac{\\sqrt{2}}{2} |0\\rangle- \\frac{\\sqrt{2}}{2} |1\\rangle$$"
      ],
      "text/plain": [
       "<IPython.core.display.Latex object>"
      ]
     },
     "metadata": {},
     "output_type": "display_data"
    }
   ],
   "source": [
    "ket_0 = Statevector([1,0])\n",
    "ket_1 = Statevector([0,1])\n",
    "\n",
    "ket_plus = Statevector([1/np.sqrt(2), 1/np.sqrt(2)])\n",
    "ket_minus = Statevector([1/np.sqrt(2), -1/np.sqrt(2)])\n",
    "\n",
    "display(ket_0.draw(\"latex\"))\n",
    "display(ket_1.draw(\"latex\"))\n",
    "display(ket_plus.draw(\"latex\"))\n",
    "display(ket_minus.draw(\"latex\"))"
   ]
  },
  {
   "cell_type": "code",
   "execution_count": 3,
   "metadata": {},
   "outputs": [
    {
     "data": {
      "text/latex": [
       "$$\\frac{3 i}{5} |0\\rangle+\\frac{4}{5} |1\\rangle$$"
      ],
      "text/plain": [
       "<IPython.core.display.Latex object>"
      ]
     },
     "metadata": {},
     "output_type": "display_data"
    },
    {
     "data": {
      "text/plain": [
       "[0. +0.6j,0.8+0.j ]"
      ]
     },
     "metadata": {},
     "output_type": "display_data"
    },
    {
     "name": "stdout",
     "output_type": "stream",
     "text": [
      "(5+0j)\n"
     ]
    }
   ],
   "source": [
    "v_1 = Statevector([3j,4])\n",
    "length = np.sqrt(np.vdot(v_1,v_1))\n",
    "v_1 /= length\n",
    "display(v_1.draw('latex'))\n",
    "display(v_1.draw('text'))\n",
    "print(length)"
   ]
  },
  {
   "cell_type": "code",
   "execution_count": 4,
   "metadata": {},
   "outputs": [
    {
     "name": "stdout",
     "output_type": "stream",
     "text": [
      "(np.str_('1'), Statevector([0.+0.j, 1.+0.j],\n",
      "            dims=(2,)))\n",
      "(np.str_('0'), Statevector([0.+1.j, 0.+0.j],\n",
      "            dims=(2,)))\n",
      "(np.str_('1'), Statevector([0.+0.j, 1.+0.j],\n",
      "            dims=(2,)))\n",
      "(np.str_('0'), Statevector([0.+1.j, 0.+0.j],\n",
      "            dims=(2,)))\n",
      "(np.str_('1'), Statevector([0.+0.j, 1.+0.j],\n",
      "            dims=(2,)))\n",
      "(np.str_('1'), Statevector([0.+0.j, 1.+0.j],\n",
      "            dims=(2,)))\n",
      "(np.str_('1'), Statevector([0.+0.j, 1.+0.j],\n",
      "            dims=(2,)))\n",
      "(np.str_('1'), Statevector([0.+0.j, 1.+0.j],\n",
      "            dims=(2,)))\n",
      "(np.str_('0'), Statevector([0.+1.j, 0.+0.j],\n",
      "            dims=(2,)))\n",
      "(np.str_('1'), Statevector([0.+0.j, 1.+0.j],\n",
      "            dims=(2,)))\n",
      "(np.str_('0'), Statevector([0.+1.j, 0.+0.j],\n",
      "            dims=(2,)))\n",
      "(np.str_('0'), Statevector([0.+1.j, 0.+0.j],\n",
      "            dims=(2,)))\n",
      "(np.str_('0'), Statevector([0.+1.j, 0.+0.j],\n",
      "            dims=(2,)))\n",
      "(np.str_('1'), Statevector([0.+0.j, 1.+0.j],\n",
      "            dims=(2,)))\n",
      "(np.str_('1'), Statevector([0.+0.j, 1.+0.j],\n",
      "            dims=(2,)))\n",
      "(np.str_('0'), Statevector([0.+1.j, 0.+0.j],\n",
      "            dims=(2,)))\n",
      "(np.str_('1'), Statevector([0.+0.j, 1.+0.j],\n",
      "            dims=(2,)))\n",
      "(np.str_('1'), Statevector([0.+0.j, 1.+0.j],\n",
      "            dims=(2,)))\n",
      "(np.str_('0'), Statevector([0.+1.j, 0.+0.j],\n",
      "            dims=(2,)))\n",
      "(np.str_('1'), Statevector([0.+0.j, 1.+0.j],\n",
      "            dims=(2,)))\n"
     ]
    }
   ],
   "source": [
    "for i in range(20):\n",
    "   print(v_1.measure())"
   ]
  },
  {
   "cell_type": "code",
   "execution_count": 40,
   "metadata": {},
   "outputs": [
    {
     "data": {
      "image/png": "[encoded data removed]",
      "text/plain": [
       "<Figure size 640x480 with 1 Axes>"
      ]
     },
     "execution_count": 40,
     "metadata": {},
     "output_type": "execute_result"
    }
   ],
   "source": [
    "from qiskit.visualization import plot_histogram\n",
    "\n",
    "result = v_1.sample_counts(100)\n",
    "plot_histogram(result)"
   ]
  },
  {
   "cell_type": "code",
   "execution_count": 41,
   "metadata": {},
   "outputs": [
    {
     "data": {
      "text/latex": [
       "$$ |0\\rangle$$"
      ],
      "text/plain": [
       "<IPython.core.display.Latex object>"
      ]
     },
     "metadata": {},
     "output_type": "display_data"
    },
    {
     "data": {
      "text/latex": [
       "$$\\frac{\\sqrt{2}}{2} |0\\rangle+\\frac{\\sqrt{2}}{2} |1\\rangle$$"
      ],
      "text/plain": [
       "<IPython.core.display.Latex object>"
      ]
     },
     "metadata": {},
     "output_type": "display_data"
    },
    {
     "data": {
      "text/latex": [
       "$$\\frac{\\sqrt{2}}{2} |0\\rangle+\\frac{\\sqrt{2} i}{2} |1\\rangle$$"
      ],
      "text/plain": [
       "<IPython.core.display.Latex object>"
      ]
     },
     "metadata": {},
     "output_type": "display_data"
    },
    {
     "data": {
      "text/latex": [
       "$$\\frac{\\sqrt{2}}{2} |0\\rangle- \\frac{\\sqrt{2} i}{2} |1\\rangle$$"
      ],
      "text/plain": [
       "<IPython.core.display.Latex object>"
      ]
     },
     "metadata": {},
     "output_type": "display_data"
    }
   ],
   "source": [
    "u1 = Statevector.from_label('0') #  tai konstruktorius pagal žymę\n",
    "u2 = Statevector.from_label('+')\n",
    "u3 = Statevector.from_label('r')\n",
    "u4 = Statevector.from_label('l')\n",
    "\n",
    "display(u1.draw('latex'))\n",
    "display(u2.draw('latex'))\n",
    "display(u3.draw('latex'))\n",
    "display(u4.draw('latex'))"
   ]
  },
  {
   "cell_type": "code",
   "execution_count": 42,
   "metadata": {},
   "outputs": [
    {
     "data": {
      "text/latex": [
       "$$ |01\\rangle$$"
      ],
      "text/plain": [
       "<IPython.core.display.Latex object>"
      ]
     },
     "metadata": {},
     "output_type": "display_data"
    },
    {
     "data": {
      "text/latex": [
       "$$\\frac{1}{2} |00\\rangle- \\frac{1}{2} |01\\rangle+\\frac{1}{2} |10\\rangle- \\frac{1}{2} |11\\rangle$$"
      ],
      "text/plain": [
       "<IPython.core.display.Latex object>"
      ]
     },
     "metadata": {},
     "output_type": "display_data"
    },
    {
     "data": {
      "text/latex": [
       "$$\\frac{1}{2} |000\\rangle+\\frac{1}{2} |010\\rangle+\\frac{i}{2} |100\\rangle+\\frac{i}{2} |110\\rangle$$"
      ],
      "text/plain": [
       "<IPython.core.display.Latex object>"
      ]
     },
     "metadata": {},
     "output_type": "display_data"
    },
    {
     "data": {
      "text/latex": [
       "$$\\frac{\\sqrt{2}}{4} |000\\rangle- \\frac{\\sqrt{2}}{4} |001\\rangle+\\frac{\\sqrt{2}}{4} |010\\rangle- \\frac{\\sqrt{2}}{4} |011\\rangle- \\frac{\\sqrt{2} i}{4} |100\\rangle+\\frac{\\sqrt{2} i}{4} |101\\rangle- \\frac{\\sqrt{2} i}{4} |110\\rangle+\\frac{\\sqrt{2} i}{4} |111\\rangle$$"
      ],
      "text/plain": [
       "<IPython.core.display.Latex object>"
      ]
     },
     "metadata": {},
     "output_type": "display_data"
    }
   ],
   "source": [
    "u1 = Statevector.from_label('01') #  tai konstruktorius pagal žymę\n",
    "u2 = Statevector.from_label('+-')\n",
    "u3 = Statevector.from_label('r+0')\n",
    "u4 = Statevector.from_label('l+-')\n",
    "\n",
    "display(u1.draw('latex'))\n",
    "display(u2.draw('latex'))\n",
    "display(u3.draw('latex'))\n",
    "display(u4.draw('latex'))"
   ]
  },
  {
   "cell_type": "markdown",
   "metadata": {},
   "source": [
    "# Operators"
   ]
  },
  {
   "cell_type": "code",
   "execution_count": 78,
   "metadata": {},
   "outputs": [
    {
     "data": {
      "text/latex": [
       "$$\\frac{\\sqrt{2}}{2} |0\\rangle+\\frac{\\sqrt{2}}{2} |1\\rangle$$"
      ],
      "text/plain": [
       "<IPython.core.display.Latex object>"
      ]
     },
     "metadata": {},
     "output_type": "display_data"
    }
   ],
   "source": [
    "# paprastas pavyzdys: skaičiuojame H|0>\n",
    "from qiskit.quantum_info import Operator\n",
    "\n",
    "H = Operator([[1 / np.sqrt(2), 1 / np.sqrt(2)], [1 / np.sqrt(2), -1 / np.sqrt(2)]])\n",
    "\n",
    "u = Statevector.from_label('0')\n",
    "v = u.evolve(H)\n",
    "\n",
    "display(v.draw(\"latex\"))"
   ]
  },
  {
   "cell_type": "code",
   "execution_count": 79,
   "metadata": {},
   "outputs": [
    {
     "data": {
      "text/latex": [
       "$$\n",
       "\n",
       "\\begin{bmatrix}\n",
       "1 & 0  \\\\\n",
       " 0 & 1  \\\\\n",
       " \\end{bmatrix}\n",
       "$$"
      ],
      "text/plain": [
       "<IPython.core.display.Latex object>"
      ]
     },
     "metadata": {},
     "output_type": "display_data"
    },
    {
     "data": {
      "text/latex": [
       "$$\n",
       "\n",
       "\\begin{bmatrix}\n",
       "0 & 1  \\\\\n",
       " 1 & 0  \\\\\n",
       " \\end{bmatrix}\n",
       "$$"
      ],
      "text/plain": [
       "<IPython.core.display.Latex object>"
      ]
     },
     "metadata": {},
     "output_type": "display_data"
    },
    {
     "data": {
      "text/latex": [
       "$$\n",
       "\n",
       "\\begin{bmatrix}\n",
       "0 & - i  \\\\\n",
       " i & 0  \\\\\n",
       " \\end{bmatrix}\n",
       "$$"
      ],
      "text/plain": [
       "<IPython.core.display.Latex object>"
      ]
     },
     "metadata": {},
     "output_type": "display_data"
    },
    {
     "data": {
      "text/latex": [
       "$$\n",
       "\n",
       "\\begin{bmatrix}\n",
       "0 & 0 & 0 & 1  \\\\\n",
       " 0 & 0 & 1 & 0  \\\\\n",
       " 0 & 1 & 0 & 0  \\\\\n",
       " 1 & 0 & 0 & 0  \\\\\n",
       " \\end{bmatrix}\n",
       "$$"
      ],
      "text/plain": [
       "<IPython.core.display.Latex object>"
      ]
     },
     "metadata": {},
     "output_type": "display_data"
    },
    {
     "data": {
      "text/latex": [
       "$$\n",
       "\n",
       "\\begin{bmatrix}\n",
       "0 & 0 & \\frac{\\sqrt{2}}{2} & \\frac{\\sqrt{2}}{2} & 0 & 0 & 0 & 0  \\\\\n",
       " 0 & 0 & \\frac{\\sqrt{2}}{2} & - \\frac{\\sqrt{2}}{2} & 0 & 0 & 0 & 0  \\\\\n",
       " \\frac{\\sqrt{2}}{2} & \\frac{\\sqrt{2}}{2} & 0 & 0 & 0 & 0 & 0 & 0  \\\\\n",
       " \\frac{\\sqrt{2}}{2} & - \\frac{\\sqrt{2}}{2} & 0 & 0 & 0 & 0 & 0 & 0  \\\\\n",
       " 0 & 0 & 0 & 0 & 0 & 0 & \\frac{\\sqrt{2}}{2} & \\frac{\\sqrt{2}}{2}  \\\\\n",
       " 0 & 0 & 0 & 0 & 0 & 0 & \\frac{\\sqrt{2}}{2} & - \\frac{\\sqrt{2}}{2}  \\\\\n",
       " 0 & 0 & 0 & 0 & \\frac{\\sqrt{2}}{2} & \\frac{\\sqrt{2}}{2} & 0 & 0  \\\\\n",
       " 0 & 0 & 0 & 0 & \\frac{\\sqrt{2}}{2} & - \\frac{\\sqrt{2}}{2} & 0 & 0  \\\\\n",
       " \\end{bmatrix}\n",
       "$$"
      ],
      "text/plain": [
       "<IPython.core.display.Latex object>"
      ]
     },
     "metadata": {},
     "output_type": "display_data"
    },
    {
     "data": {
      "text/latex": [
       "$$\\frac{\\sqrt{2}}{2} |010\\rangle+\\frac{\\sqrt{2}}{2} |011\\rangle$$"
      ],
      "text/plain": [
       "<IPython.core.display.Latex object>"
      ]
     },
     "metadata": {},
     "output_type": "display_data"
    }
   ],
   "source": [
    "# ... dar pavyzdys\n",
    "#  Galima naudoti žymes konstruojant:\n",
    "# ‘I’, ‘X’, ‘Y’, ‘Z’, ‘H’, ‘S’, ‘T’, ‘0’,‘1’,‘+’,‘-’,‘r’,‘l’\n",
    "\n",
    "I = Operator.from_label('I')\n",
    "X = Operator.from_label('X')\n",
    "Y = Operator.from_label('Y')\n",
    "\n",
    "display(I.draw('latex'))\n",
    "display(X.draw('latex'))\n",
    "display(Y.draw('latex'))\n",
    "\n",
    "#  Galima naudoti tenzorinę sandaugą konstruojant:\n",
    "\n",
    "X2 = X ^ X\n",
    "display(X2.draw('latex'))\n",
    "\n",
    "IXH = I ^ X ^ H\n",
    "display(IXH.draw('latex'))\n",
    "\n",
    "u3 = Statevector.from_label('000')\n",
    "\n",
    "IXHu3 = u3.evolve(IXH)\n",
    "display(IXHu3.draw('latex'))"
   ]
  },
  {
   "cell_type": "code",
   "execution_count": 80,
   "metadata": {},
   "outputs": [
    {
     "data": {
      "text/latex": [
       "$$\n",
       "\n",
       "\\begin{bmatrix}\n",
       "1 & 0 & 0 & 0  \\\\\n",
       " 0 & 1 & 0 & 0  \\\\\n",
       " 0 & 0 & 1 & 0  \\\\\n",
       " 0 & 0 & 0 & 1  \\\\\n",
       " \\end{bmatrix}\n",
       "$$"
      ],
      "text/plain": [
       "<IPython.core.display.Latex object>"
      ]
     },
     "metadata": {},
     "output_type": "display_data"
    },
    {
     "data": {
      "text/latex": [
       "$$\n",
       "\n",
       "\\begin{bmatrix}\n",
       "1 & 0 & 0 & 0  \\\\\n",
       " 0 & 1 & 0 & 0  \\\\\n",
       " 0 & 0 & 1 & 0  \\\\\n",
       " 0 & 0 & 0 & 1  \\\\\n",
       " \\end{bmatrix}\n",
       "$$"
      ],
      "text/plain": [
       "<IPython.core.display.Latex object>"
      ]
     },
     "metadata": {},
     "output_type": "display_data"
    }
   ],
   "source": [
    "# ... dar pavyzdys: keitinių operatorius\n",
    "#  ... neveikia kaip reikia :(\n",
    "I = Operator.from_label('I')\n",
    "I2 = I ^ I\n",
    "u2 = Statevector.from_label('00')\n",
    "\n",
    "display(I2.draw('latex', max_size=8))\n",
    "\n",
    "\n",
    "I2p = I2.apply_permutation([1,2])\n",
    "display((I2.apply_permutation([1,2])).draw('latex', max_size=8))"
   ]
  },
  {
   "cell_type": "markdown",
   "metadata": {},
   "source": [
    "# Schemes"
   ]
  },
  {
   "cell_type": "code",
   "execution_count": 47,
   "metadata": {},
   "outputs": [
    {
     "data": {
      "image/png": "[encoded data removed]",
      "text/plain": [
       "<Figure size 269.064x200.667 with 1 Axes>"
      ]
     },
     "execution_count": 47,
     "metadata": {},
     "output_type": "execute_result"
    }
   ],
   "source": [
    "# Schema su vienu H ir vienu klasikiniu bitu\n",
    "from qiskit import QuantumCircuit\n",
    "\n",
    "scheme = QuantumCircuit(1,1)\n",
    "scheme.h(0)\n",
    "scheme.measure(0,0)\n",
    "\n",
    "scheme.draw('mpl')"
   ]
  },
  {
   "cell_type": "code",
   "execution_count": 57,
   "metadata": {},
   "outputs": [
    {
     "name": "stdout",
     "output_type": "stream",
     "text": [
      "{'0': 476, '1': 548}\n"
     ]
    }
   ],
   "source": [
    "# Dabar bandome \"paleisti\" mūsų schemą ir pamatuoti jos rezultatus\n",
    "from qiskit.providers.basic_provider import BasicSimulator\n",
    "from qiskit import transpile\n",
    "masina = BasicSimulator()\n",
    "transpiliuotaSchema = transpile(scheme, masina)\n",
    "dazniai = masina.run(transpiliuotaSchema).result().get_counts()\n",
    "\n",
    "print(dazniai)"
   ]
  },
  {
   "cell_type": "code",
   "execution_count": 58,
   "metadata": {},
   "outputs": [
    {
     "data": {
      "image/png": "[encoded data removed]",
      "text/plain": [
       "<Figure size 371.107x367.889 with 1 Axes>"
      ]
     },
     "execution_count": 58,
     "metadata": {},
     "output_type": "execute_result"
    }
   ],
   "source": [
    "# Schema su dviem H ir CX vartais\n",
    "from qiskit import QuantumCircuit\n",
    "\n",
    "schema = QuantumCircuit(4)\n",
    "schema.h(0)\n",
    "schema.h(1)\n",
    "schema.cx(0, 2)\n",
    "schema.cx(1, 3)\n",
    "\n",
    "schema.draw('mpl')"
   ]
  },
  {
   "cell_type": "code",
   "execution_count": 59,
   "metadata": {},
   "outputs": [
    {
     "data": {
      "image/png": "[encoded data removed]",
      "text/plain": [
       "<Figure size 370.906x284.278 with 1 Axes>"
      ]
     },
     "execution_count": 59,
     "metadata": {},
     "output_type": "execute_result"
    }
   ],
   "source": [
    "# Schema su vienu CH ir vienu klasikiniu bitu\n",
    "from IPython.display import display, Markdown\n",
    "\n",
    "\n",
    "schema = QuantumCircuit(2,1)\n",
    "schema.h(1)\n",
    "schema.ch(1,0)\n",
    "schema.measure(0,0)\n",
    "\n",
    "schema.draw('mpl')"
   ]
  },
  {
   "cell_type": "code",
   "execution_count": 60,
   "metadata": {},
   "outputs": [
    {
     "data": {
      "text/plain": [
       "{'0': 770, '1': 254}"
      ]
     },
     "metadata": {},
     "output_type": "display_data"
    }
   ],
   "source": [
    "masina = BasicSimulator()\n",
    "transpiliuotaSchema = transpile(schema, masina)\n",
    "dazniai = masina.run(transpiliuotaSchema).result().get_counts()\n",
    "\n",
    "display(dazniai)"
   ]
  },
  {
   "cell_type": "code",
   "execution_count": 61,
   "metadata": {},
   "outputs": [
    {
     "data": {
      "image/png": "[encoded data removed]",
      "text/plain": [
       "<Figure size 538.128x284.278 with 1 Axes>"
      ]
     },
     "execution_count": 61,
     "metadata": {},
     "output_type": "execute_result"
    }
   ],
   "source": [
    "# ... dar vienas pavyzdys\n",
    "\n",
    "schema = QuantumCircuit(2,2)\n",
    "schema.h(1)\n",
    "schema.barrier()\n",
    "schema.ch(1,0)\n",
    "schema.measure(0,0)\n",
    "schema.measure(1,1)\n",
    "schema.draw('mpl')"
   ]
  },
  {
   "cell_type": "code",
   "execution_count": 62,
   "metadata": {},
   "outputs": [
    {
     "data": {
      "text/plain": [
       "{'10': 249, '00': 503, '11': 272}"
      ]
     },
     "metadata": {},
     "output_type": "display_data"
    }
   ],
   "source": [
    "masina = BasicSimulator()\n",
    "transpiliuotaSchema = transpile(schema, masina)\n",
    "dazniai = masina.run(transpiliuotaSchema).result().get_counts()\n",
    "\n",
    "display(dazniai)"
   ]
  },
  {
   "cell_type": "code",
   "execution_count": 63,
   "metadata": {},
   "outputs": [
    {
     "name": "stdout",
     "output_type": "stream",
     "text": [
      "     ┌───┐ ░            ░       \n",
      "q_0: ┤ H ├─░───■────────░───────\n",
      "     ├───┤ ░   │        ░       \n",
      "q_1: ┤ H ├─░───┼────■───░───────\n",
      "     └───┘ ░ ┌─┴─┐  │   ░ ┌─┐   \n",
      "q_2: ──────░─┤ X ├──┼───░─┤M├───\n",
      "           ░ └───┘┌─┴─┐ ░ └╥┘┌─┐\n",
      "q_3: ──────░──────┤ X ├─░──╫─┤M├\n",
      "           ░      └───┘ ░  ║ └╥┘\n",
      "c: 2/══════════════════════╩══╩═\n",
      "                           0  1 \n",
      "{'00': 248, '11': 257, '10': 271, '01': 248}\n"
     ]
    }
   ],
   "source": [
    "# ... dar vienas pavyzdys\n",
    "\n",
    "schema = QuantumCircuit(4,2)\n",
    "schema.h(0)\n",
    "schema.h(1)\n",
    "schema.barrier()\n",
    "schema.cx(0,2)\n",
    "schema.cx(1,3)\n",
    "schema.barrier()\n",
    "schema.measure(2,0)\n",
    "schema.measure(3,1)\n",
    "#schema.draw('mpl')\n",
    "print(schema)\n",
    "\n",
    "masina = BasicSimulator()\n",
    "transpiliuotaSchema = transpile(schema, masina)\n",
    "dazniai = masina.run(transpiliuotaSchema).result().get_counts()\n",
    "print(dazniai)"
   ]
  },
  {
   "cell_type": "code",
   "execution_count": 64,
   "metadata": {},
   "outputs": [
    {
     "name": "stdout",
     "output_type": "stream",
     "text": [
      "     ┌───┐ ░            ░ ┌─┐   \n",
      "q_0: ┤ H ├─░───■────────░─┤M├───\n",
      "     ├───┤ ░   │        ░ └╥┘┌─┐\n",
      "q_1: ┤ H ├─░───┼────■───░──╫─┤M├\n",
      "     └───┘ ░ ┌─┴─┐  │   ░  ║ └╥┘\n",
      "q_2: ──────░─┤ X ├──┼───░──╫──╫─\n",
      "           ░ └───┘┌─┴─┐ ░  ║  ║ \n",
      "q_3: ──────░──────┤ X ├─░──╫──╫─\n",
      "           ░      └───┘ ░  ║  ║ \n",
      "c: 2/══════════════════════╩══╩═\n",
      "                           0  1 \n",
      "{'00': 255, '11': 251, '01': 251, '10': 267}\n"
     ]
    }
   ],
   "source": [
    "schema = QuantumCircuit(4,2)\n",
    "schema.h(0)\n",
    "schema.h(1)\n",
    "schema.barrier()\n",
    "schema.cx(0,2)\n",
    "schema.cx(1,3)\n",
    "schema.barrier()\n",
    "schema.measure(0,0)\n",
    "schema.measure(1,1)\n",
    "#schema.draw('mpl')\n",
    "print(schema)\n",
    "\n",
    "masina = BasicSimulator()\n",
    "transpiliuotaSchema = transpile(schema, masina)\n",
    "dazniai = masina.run(transpiliuotaSchema).result().get_counts()\n",
    "print(dazniai)"
   ]
  },
  {
   "cell_type": "code",
   "execution_count": 65,
   "metadata": {},
   "outputs": [
    {
     "name": "stdout",
     "output_type": "stream",
     "text": [
      "     ┌───┐ ░       ░    \n",
      "q_0: ┤ H ├─░───■───░────\n",
      "     ├───┤ ░   │   ░    \n",
      "q_1: ┤ H ├─░───■───░────\n",
      "     └───┘ ░ ┌─┴─┐ ░ ┌─┐\n",
      "q_2: ──────░─┤ X ├─░─┤M├\n",
      "           ░ └───┘ ░ └╥┘\n",
      "q_3: ──────░───────░──╫─\n",
      "           ░       ░  ║ \n",
      "c: 1/═════════════════╩═\n",
      "                      0 \n",
      "{'0': 773, '1': 251}\n"
     ]
    }
   ],
   "source": [
    "# ... dar vienas pavyzdys\n",
    "\n",
    "schema = QuantumCircuit(4,1)\n",
    "schema.h(0)\n",
    "schema.h(1)\n",
    "schema.barrier()\n",
    "schema.ccx(0,1,2)\n",
    "schema.barrier()\n",
    "schema.measure(2,0)\n",
    "#schema.measure(3,1)\n",
    "#schema.draw('mpl')\n",
    "print(schema)\n",
    "\n",
    "masina = BasicSimulator()\n",
    "transpiliuotaSchema = transpile(schema, masina)\n",
    "dazniai = masina.run(transpiliuotaSchema).result().get_counts()\n",
    "print(dazniai)"
   ]
  },
  {
   "cell_type": "code",
   "execution_count": null,
   "metadata": {},
   "outputs": [
    {
     "name": "stdout",
     "output_type": "stream",
     "text": [
      "     ┌───┐ ░ ┌───┐     ┌───┐           ░       \n",
      "q_0: ┤ H ├─░─┤ X ├──■──┤ X ├──■────────░───────\n",
      "     ├───┤ ░ └───┘  │  ├───┤  │  ┌───┐ ░       \n",
      "q_1: ┤ H ├─░────────■──┤ X ├──■──┤ X ├─░───────\n",
      "     └───┘ ░      ┌─┴─┐└───┘  │  └───┘ ░ ┌─┐   \n",
      "q_2: ──────░──────┤ X ├───────┼────────░─┤M├───\n",
      "           ░      └───┘     ┌─┴─┐      ░ └╥┘┌─┐\n",
      "q_3: ──────░────────────────┤ X ├──────░──╫─┤M├\n",
      "           ░                └───┘      ░  ║ └╥┘\n",
      "c: 2/═════════════════════════════════════╩══╩═\n",
      "                                          0  1 \n"
     ]
    },
    {
     "data": {
      "text/plain": [
       "(array([1., 0., 0., 0., 0., 1., 0., 0., 0., 1.]),\n",
       " array([0. , 0.2, 0.4, 0.6, 0.8, 1. , 1.2, 1.4, 1.6, 1.8, 2. ]),\n",
       " <BarContainer object of 10 artists>)"
      ]
     },
     "execution_count": 66,
     "metadata": {},
     "output_type": "execute_result"
    },
    {
     "data": {
      "image/png": "[encoded data removed]",
      "text/plain": [
       "<Figure size 640x480 with 1 Axes>"
      ]
     },
     "metadata": {},
     "output_type": "display_data"
    }
   ],
   "source": [
    "# ... dar vienas pavyzdys\n",
    "\n",
    "schema = QuantumCircuit(4,2)\n",
    "schema.h(0)\n",
    "schema.h(1)\n",
    "schema.barrier()\n",
    "schema.x(0)\n",
    "schema.ccx(0,1,2)\n",
    "schema.x(0)\n",
    "schema.x(1)\n",
    "schema.ccx(0,1,3)\n",
    "schema.x(1)\n",
    "\n",
    "schema.barrier()\n",
    "schema.measure(2,0)\n",
    "schema.measure(3,1)\n",
    "#schema.draw('mpl')\n",
    "print(schema)\n",
    "\n",
    "masina = BasicSimulator()\n",
    "transpiliuotaSchema = transpile(schema, masina)\n",
    "dazniai = masina.run(transpiliuotaSchema).result().get_counts()\n",
    "\n",
    "import matplotlib.pyplot as plt\n",
    "\n",
    "plt.hist(dazniai)"
   ]
  },
  {
   "cell_type": "code",
   "execution_count": 77,
   "metadata": {},
   "outputs": [
    {
     "name": "stdout",
     "output_type": "stream",
     "text": [
      "     ┌───┐     \n",
      "q_0: ┤ H ├─────\n",
      "     ├───┤┌───┐\n",
      "q_1: ┤ H ├┤ H ├\n",
      "     └───┘└───┘\n",
      "c: 3/══════════\n",
      "               \n"
     ]
    }
   ],
   "source": [
    "schema = QuantumCircuit(2, 3)\n",
    "schema.h(1)\n",
    "schema.h(1)\n",
    "schema.h(0)\n",
    "print(schema)"
   ]
  }
 ],
 "metadata": {
  "kernelspec": {
   "display_name": "quantum-venv",
   "language": "python",
   "name": "python3"
  },
  "language_info": {
   "codemirror_mode": {
    "name": "ipython",
    "version": 3
   },
   "file_extension": ".py",
   "mimetype": "text/x-python",
   "name": "python",
   "nbconvert_exporter": "python",
   "pygments_lexer": "ipython3",
   "version": "3.12.5"
  }
 },
 "nbformat": 4,
 "nbformat_minor": 2
}
